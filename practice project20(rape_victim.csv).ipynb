{
 "cells": [
  {
   "cell_type": "code",
   "execution_count": 48,
   "metadata": {},
   "outputs": [],
   "source": [
    "import pandas as pd\n",
    "import numpy as np\n",
    "import matplotlib.pyplot as plt\n",
    "import seaborn as sns"
   ]
  },
  {
   "cell_type": "code",
   "execution_count": 49,
   "metadata": {},
   "outputs": [
    {
     "data": {
      "text/html": [
       "<div>\n",
       "<style scoped>\n",
       "    .dataframe tbody tr th:only-of-type {\n",
       "        vertical-align: middle;\n",
       "    }\n",
       "\n",
       "    .dataframe tbody tr th {\n",
       "        vertical-align: top;\n",
       "    }\n",
       "\n",
       "    .dataframe thead th {\n",
       "        text-align: right;\n",
       "    }\n",
       "</style>\n",
       "<table border=\"1\" class=\"dataframe\">\n",
       "  <thead>\n",
       "    <tr style=\"text-align: right;\">\n",
       "      <th></th>\n",
       "      <th>Area_Name</th>\n",
       "      <th>Year</th>\n",
       "      <th>Subgroup</th>\n",
       "      <th>Rape_Cases_Reported</th>\n",
       "      <th>Victims_Above_50_Yrs</th>\n",
       "      <th>Victims_Between_10-14_Yrs</th>\n",
       "      <th>Victims_Between_14-18_Yrs</th>\n",
       "      <th>Victims_Between_18-30_Yrs</th>\n",
       "      <th>Victims_Between_30-50_Yrs</th>\n",
       "      <th>Victims_of_Rape_Total</th>\n",
       "      <th>Victims_Upto_10_Yrs</th>\n",
       "    </tr>\n",
       "  </thead>\n",
       "  <tbody>\n",
       "    <tr>\n",
       "      <th>0</th>\n",
       "      <td>Andaman &amp; Nicobar Islands</td>\n",
       "      <td>2001</td>\n",
       "      <td>Total Rape Victims</td>\n",
       "      <td>3</td>\n",
       "      <td>0</td>\n",
       "      <td>0</td>\n",
       "      <td>3</td>\n",
       "      <td>0</td>\n",
       "      <td>0</td>\n",
       "      <td>3</td>\n",
       "      <td>0</td>\n",
       "    </tr>\n",
       "    <tr>\n",
       "      <th>1</th>\n",
       "      <td>Andaman &amp; Nicobar Islands</td>\n",
       "      <td>2001</td>\n",
       "      <td>Victims of Incest Rape</td>\n",
       "      <td>1</td>\n",
       "      <td>0</td>\n",
       "      <td>0</td>\n",
       "      <td>1</td>\n",
       "      <td>0</td>\n",
       "      <td>0</td>\n",
       "      <td>1</td>\n",
       "      <td>0</td>\n",
       "    </tr>\n",
       "    <tr>\n",
       "      <th>2</th>\n",
       "      <td>Andaman &amp; Nicobar Islands</td>\n",
       "      <td>2001</td>\n",
       "      <td>Victims of Other Rape</td>\n",
       "      <td>2</td>\n",
       "      <td>0</td>\n",
       "      <td>0</td>\n",
       "      <td>2</td>\n",
       "      <td>0</td>\n",
       "      <td>0</td>\n",
       "      <td>2</td>\n",
       "      <td>0</td>\n",
       "    </tr>\n",
       "    <tr>\n",
       "      <th>3</th>\n",
       "      <td>Andaman &amp; Nicobar Islands</td>\n",
       "      <td>2002</td>\n",
       "      <td>Total Rape Victims</td>\n",
       "      <td>2</td>\n",
       "      <td>0</td>\n",
       "      <td>0</td>\n",
       "      <td>1</td>\n",
       "      <td>1</td>\n",
       "      <td>0</td>\n",
       "      <td>2</td>\n",
       "      <td>0</td>\n",
       "    </tr>\n",
       "    <tr>\n",
       "      <th>4</th>\n",
       "      <td>Andaman &amp; Nicobar Islands</td>\n",
       "      <td>2002</td>\n",
       "      <td>Victims of Incest Rape</td>\n",
       "      <td>0</td>\n",
       "      <td>0</td>\n",
       "      <td>0</td>\n",
       "      <td>0</td>\n",
       "      <td>0</td>\n",
       "      <td>0</td>\n",
       "      <td>0</td>\n",
       "      <td>0</td>\n",
       "    </tr>\n",
       "  </tbody>\n",
       "</table>\n",
       "</div>"
      ],
      "text/plain": [
       "                   Area_Name  Year                Subgroup  \\\n",
       "0  Andaman & Nicobar Islands  2001      Total Rape Victims   \n",
       "1  Andaman & Nicobar Islands  2001  Victims of Incest Rape   \n",
       "2  Andaman & Nicobar Islands  2001   Victims of Other Rape   \n",
       "3  Andaman & Nicobar Islands  2002      Total Rape Victims   \n",
       "4  Andaman & Nicobar Islands  2002  Victims of Incest Rape   \n",
       "\n",
       "   Rape_Cases_Reported  Victims_Above_50_Yrs  Victims_Between_10-14_Yrs  \\\n",
       "0                    3                     0                          0   \n",
       "1                    1                     0                          0   \n",
       "2                    2                     0                          0   \n",
       "3                    2                     0                          0   \n",
       "4                    0                     0                          0   \n",
       "\n",
       "   Victims_Between_14-18_Yrs  Victims_Between_18-30_Yrs  \\\n",
       "0                          3                          0   \n",
       "1                          1                          0   \n",
       "2                          2                          0   \n",
       "3                          1                          1   \n",
       "4                          0                          0   \n",
       "\n",
       "   Victims_Between_30-50_Yrs  Victims_of_Rape_Total  Victims_Upto_10_Yrs  \n",
       "0                          0                      3                    0  \n",
       "1                          0                      1                    0  \n",
       "2                          0                      2                    0  \n",
       "3                          0                      2                    0  \n",
       "4                          0                      0                    0  "
      ]
     },
     "execution_count": 49,
     "metadata": {},
     "output_type": "execute_result"
    }
   ],
   "source": [
    "df=pd.read_csv(\"rape_victim.csv\")\n",
    "df.head()"
   ]
  },
  {
   "cell_type": "code",
   "execution_count": 50,
   "metadata": {},
   "outputs": [
    {
     "data": {
      "text/html": [
       "<div>\n",
       "<style scoped>\n",
       "    .dataframe tbody tr th:only-of-type {\n",
       "        vertical-align: middle;\n",
       "    }\n",
       "\n",
       "    .dataframe tbody tr th {\n",
       "        vertical-align: top;\n",
       "    }\n",
       "\n",
       "    .dataframe thead th {\n",
       "        text-align: right;\n",
       "    }\n",
       "</style>\n",
       "<table border=\"1\" class=\"dataframe\">\n",
       "  <thead>\n",
       "    <tr style=\"text-align: right;\">\n",
       "      <th></th>\n",
       "      <th>Area_Name</th>\n",
       "      <th>Year</th>\n",
       "      <th>Subgroup</th>\n",
       "      <th>Rape_Cases_Reported</th>\n",
       "      <th>Victims_Above_50_Yrs</th>\n",
       "      <th>Victims_Between_10-14_Yrs</th>\n",
       "      <th>Victims_Between_14-18_Yrs</th>\n",
       "      <th>Victims_Between_18-30_Yrs</th>\n",
       "      <th>Victims_Between_30-50_Yrs</th>\n",
       "      <th>Victims_of_Rape_Total</th>\n",
       "      <th>Victims_Upto_10_Yrs</th>\n",
       "    </tr>\n",
       "  </thead>\n",
       "  <tbody>\n",
       "    <tr>\n",
       "      <th>1045</th>\n",
       "      <td>West Bengal</td>\n",
       "      <td>2009</td>\n",
       "      <td>Victims of Incest Rape</td>\n",
       "      <td>3</td>\n",
       "      <td>0</td>\n",
       "      <td>0</td>\n",
       "      <td>1</td>\n",
       "      <td>1</td>\n",
       "      <td>1</td>\n",
       "      <td>3</td>\n",
       "      <td>0</td>\n",
       "    </tr>\n",
       "    <tr>\n",
       "      <th>1046</th>\n",
       "      <td>West Bengal</td>\n",
       "      <td>2009</td>\n",
       "      <td>Victims of Other Rape</td>\n",
       "      <td>2333</td>\n",
       "      <td>0</td>\n",
       "      <td>18</td>\n",
       "      <td>84</td>\n",
       "      <td>1834</td>\n",
       "      <td>391</td>\n",
       "      <td>2333</td>\n",
       "      <td>6</td>\n",
       "    </tr>\n",
       "    <tr>\n",
       "      <th>1047</th>\n",
       "      <td>West Bengal</td>\n",
       "      <td>2010</td>\n",
       "      <td>Total Rape Victims</td>\n",
       "      <td>2311</td>\n",
       "      <td>0</td>\n",
       "      <td>22</td>\n",
       "      <td>51</td>\n",
       "      <td>1779</td>\n",
       "      <td>459</td>\n",
       "      <td>2311</td>\n",
       "      <td>0</td>\n",
       "    </tr>\n",
       "    <tr>\n",
       "      <th>1048</th>\n",
       "      <td>West Bengal</td>\n",
       "      <td>2010</td>\n",
       "      <td>Victims of Incest Rape</td>\n",
       "      <td>4</td>\n",
       "      <td>0</td>\n",
       "      <td>1</td>\n",
       "      <td>0</td>\n",
       "      <td>2</td>\n",
       "      <td>1</td>\n",
       "      <td>4</td>\n",
       "      <td>0</td>\n",
       "    </tr>\n",
       "    <tr>\n",
       "      <th>1049</th>\n",
       "      <td>West Bengal</td>\n",
       "      <td>2010</td>\n",
       "      <td>Victims of Other Rape</td>\n",
       "      <td>2307</td>\n",
       "      <td>0</td>\n",
       "      <td>21</td>\n",
       "      <td>51</td>\n",
       "      <td>1777</td>\n",
       "      <td>458</td>\n",
       "      <td>2307</td>\n",
       "      <td>0</td>\n",
       "    </tr>\n",
       "  </tbody>\n",
       "</table>\n",
       "</div>"
      ],
      "text/plain": [
       "        Area_Name  Year                Subgroup  Rape_Cases_Reported  \\\n",
       "1045  West Bengal  2009  Victims of Incest Rape                    3   \n",
       "1046  West Bengal  2009   Victims of Other Rape                 2333   \n",
       "1047  West Bengal  2010      Total Rape Victims                 2311   \n",
       "1048  West Bengal  2010  Victims of Incest Rape                    4   \n",
       "1049  West Bengal  2010   Victims of Other Rape                 2307   \n",
       "\n",
       "      Victims_Above_50_Yrs  Victims_Between_10-14_Yrs  \\\n",
       "1045                     0                          0   \n",
       "1046                     0                         18   \n",
       "1047                     0                         22   \n",
       "1048                     0                          1   \n",
       "1049                     0                         21   \n",
       "\n",
       "      Victims_Between_14-18_Yrs  Victims_Between_18-30_Yrs  \\\n",
       "1045                          1                          1   \n",
       "1046                         84                       1834   \n",
       "1047                         51                       1779   \n",
       "1048                          0                          2   \n",
       "1049                         51                       1777   \n",
       "\n",
       "      Victims_Between_30-50_Yrs  Victims_of_Rape_Total  Victims_Upto_10_Yrs  \n",
       "1045                          1                      3                    0  \n",
       "1046                        391                   2333                    6  \n",
       "1047                        459                   2311                    0  \n",
       "1048                          1                      4                    0  \n",
       "1049                        458                   2307                    0  "
      ]
     },
     "execution_count": 50,
     "metadata": {},
     "output_type": "execute_result"
    }
   ],
   "source": [
    "df.tail()"
   ]
  },
  {
   "cell_type": "markdown",
   "metadata": {},
   "source": [
    "# Exploring data"
   ]
  },
  {
   "cell_type": "code",
   "execution_count": 51,
   "metadata": {},
   "outputs": [
    {
     "name": "stdout",
     "output_type": "stream",
     "text": [
      "<class 'pandas.core.frame.DataFrame'>\n",
      "RangeIndex: 1050 entries, 0 to 1049\n",
      "Data columns (total 11 columns):\n",
      " #   Column                     Non-Null Count  Dtype \n",
      "---  ------                     --------------  ----- \n",
      " 0   Area_Name                  1050 non-null   object\n",
      " 1   Year                       1050 non-null   int64 \n",
      " 2   Subgroup                   1050 non-null   object\n",
      " 3   Rape_Cases_Reported        1050 non-null   int64 \n",
      " 4   Victims_Above_50_Yrs       1050 non-null   int64 \n",
      " 5   Victims_Between_10-14_Yrs  1050 non-null   int64 \n",
      " 6   Victims_Between_14-18_Yrs  1050 non-null   int64 \n",
      " 7   Victims_Between_18-30_Yrs  1050 non-null   int64 \n",
      " 8   Victims_Between_30-50_Yrs  1050 non-null   int64 \n",
      " 9   Victims_of_Rape_Total      1050 non-null   int64 \n",
      " 10  Victims_Upto_10_Yrs        1050 non-null   int64 \n",
      "dtypes: int64(9), object(2)\n",
      "memory usage: 90.4+ KB\n"
     ]
    }
   ],
   "source": [
    "df.info()"
   ]
  },
  {
   "cell_type": "code",
   "execution_count": 52,
   "metadata": {},
   "outputs": [
    {
     "data": {
      "text/plain": [
       "(1050, 11)"
      ]
     },
     "execution_count": 52,
     "metadata": {},
     "output_type": "execute_result"
    }
   ],
   "source": [
    "df.shape\n"
   ]
  },
  {
   "cell_type": "code",
   "execution_count": 53,
   "metadata": {},
   "outputs": [
    {
     "data": {
      "text/plain": [
       "Index(['Area_Name', 'Year', 'Subgroup', 'Rape_Cases_Reported',\n",
       "       'Victims_Above_50_Yrs', 'Victims_Between_10-14_Yrs',\n",
       "       'Victims_Between_14-18_Yrs', 'Victims_Between_18-30_Yrs',\n",
       "       'Victims_Between_30-50_Yrs', 'Victims_of_Rape_Total',\n",
       "       'Victims_Upto_10_Yrs'],\n",
       "      dtype='object')"
      ]
     },
     "execution_count": 53,
     "metadata": {},
     "output_type": "execute_result"
    }
   ],
   "source": [
    "df.columns"
   ]
  },
  {
   "cell_type": "code",
   "execution_count": 92,
   "metadata": {},
   "outputs": [
    {
     "data": {
      "text/plain": [
       "Area_Name                    0\n",
       "Year                         0\n",
       "Rape_Cases_Reported          0\n",
       "Victims_Above_50_Yrs         0\n",
       "Victims_Between_10-14_Yrs    0\n",
       "Victims_Between_14-18_Yrs    0\n",
       "Victims_Between_18-30_Yrs    0\n",
       "Victims_Between_30-50_Yrs    0\n",
       "Victims_Upto_10_Yrs          0\n",
       "dtype: int64"
      ]
     },
     "execution_count": 92,
     "metadata": {},
     "output_type": "execute_result"
    }
   ],
   "source": [
    " df.isnull().sum()"
   ]
  },
  {
   "cell_type": "markdown",
   "metadata": {},
   "source": [
    "# EDA"
   ]
  },
  {
   "cell_type": "code",
   "execution_count": 55,
   "metadata": {},
   "outputs": [],
   "source": [
    "df=df.drop(labels= 'Victims_of_Rape_Total',axis=1)"
   ]
  },
  {
   "cell_type": "code",
   "execution_count": 88,
   "metadata": {},
   "outputs": [],
   "source": [
    "df=df.drop(labels= 'Subgroup',axis=1)"
   ]
  },
  {
   "cell_type": "code",
   "execution_count": 89,
   "metadata": {},
   "outputs": [
    {
     "data": {
      "text/html": [
       "<div>\n",
       "<style scoped>\n",
       "    .dataframe tbody tr th:only-of-type {\n",
       "        vertical-align: middle;\n",
       "    }\n",
       "\n",
       "    .dataframe tbody tr th {\n",
       "        vertical-align: top;\n",
       "    }\n",
       "\n",
       "    .dataframe thead th {\n",
       "        text-align: right;\n",
       "    }\n",
       "</style>\n",
       "<table border=\"1\" class=\"dataframe\">\n",
       "  <thead>\n",
       "    <tr style=\"text-align: right;\">\n",
       "      <th></th>\n",
       "      <th>Area_Name</th>\n",
       "      <th>Year</th>\n",
       "      <th>Rape_Cases_Reported</th>\n",
       "      <th>Victims_Above_50_Yrs</th>\n",
       "      <th>Victims_Between_10-14_Yrs</th>\n",
       "      <th>Victims_Between_14-18_Yrs</th>\n",
       "      <th>Victims_Between_18-30_Yrs</th>\n",
       "      <th>Victims_Between_30-50_Yrs</th>\n",
       "      <th>Victims_Upto_10_Yrs</th>\n",
       "    </tr>\n",
       "  </thead>\n",
       "  <tbody>\n",
       "    <tr>\n",
       "      <th>0</th>\n",
       "      <td>Andaman &amp; Nicobar Islands</td>\n",
       "      <td>2001</td>\n",
       "      <td>3</td>\n",
       "      <td>0</td>\n",
       "      <td>0</td>\n",
       "      <td>3</td>\n",
       "      <td>0</td>\n",
       "      <td>0</td>\n",
       "      <td>0</td>\n",
       "    </tr>\n",
       "    <tr>\n",
       "      <th>1</th>\n",
       "      <td>Andaman &amp; Nicobar Islands</td>\n",
       "      <td>2001</td>\n",
       "      <td>1</td>\n",
       "      <td>0</td>\n",
       "      <td>0</td>\n",
       "      <td>1</td>\n",
       "      <td>0</td>\n",
       "      <td>0</td>\n",
       "      <td>0</td>\n",
       "    </tr>\n",
       "    <tr>\n",
       "      <th>2</th>\n",
       "      <td>Andaman &amp; Nicobar Islands</td>\n",
       "      <td>2001</td>\n",
       "      <td>2</td>\n",
       "      <td>0</td>\n",
       "      <td>0</td>\n",
       "      <td>2</td>\n",
       "      <td>0</td>\n",
       "      <td>0</td>\n",
       "      <td>0</td>\n",
       "    </tr>\n",
       "    <tr>\n",
       "      <th>3</th>\n",
       "      <td>Andaman &amp; Nicobar Islands</td>\n",
       "      <td>2002</td>\n",
       "      <td>2</td>\n",
       "      <td>0</td>\n",
       "      <td>0</td>\n",
       "      <td>1</td>\n",
       "      <td>1</td>\n",
       "      <td>0</td>\n",
       "      <td>0</td>\n",
       "    </tr>\n",
       "    <tr>\n",
       "      <th>4</th>\n",
       "      <td>Andaman &amp; Nicobar Islands</td>\n",
       "      <td>2002</td>\n",
       "      <td>0</td>\n",
       "      <td>0</td>\n",
       "      <td>0</td>\n",
       "      <td>0</td>\n",
       "      <td>0</td>\n",
       "      <td>0</td>\n",
       "      <td>0</td>\n",
       "    </tr>\n",
       "  </tbody>\n",
       "</table>\n",
       "</div>"
      ],
      "text/plain": [
       "                   Area_Name  Year  Rape_Cases_Reported  Victims_Above_50_Yrs  \\\n",
       "0  Andaman & Nicobar Islands  2001                    3                     0   \n",
       "1  Andaman & Nicobar Islands  2001                    1                     0   \n",
       "2  Andaman & Nicobar Islands  2001                    2                     0   \n",
       "3  Andaman & Nicobar Islands  2002                    2                     0   \n",
       "4  Andaman & Nicobar Islands  2002                    0                     0   \n",
       "\n",
       "   Victims_Between_10-14_Yrs  Victims_Between_14-18_Yrs  \\\n",
       "0                          0                          3   \n",
       "1                          0                          1   \n",
       "2                          0                          2   \n",
       "3                          0                          1   \n",
       "4                          0                          0   \n",
       "\n",
       "   Victims_Between_18-30_Yrs  Victims_Between_30-50_Yrs  Victims_Upto_10_Yrs  \n",
       "0                          0                          0                    0  \n",
       "1                          0                          0                    0  \n",
       "2                          0                          0                    0  \n",
       "3                          1                          0                    0  \n",
       "4                          0                          0                    0  "
      ]
     },
     "execution_count": 89,
     "metadata": {},
     "output_type": "execute_result"
    }
   ],
   "source": [
    "df.head()"
   ]
  },
  {
   "cell_type": "markdown",
   "metadata": {},
   "source": [
    "since column 'Rape_Cases_Reported' and 'Victims_of_Rape_Total' are similar its good to remove one of them"
   ]
  },
  {
   "cell_type": "code",
   "execution_count": 57,
   "metadata": {},
   "outputs": [
    {
     "data": {
      "text/html": [
       "<div>\n",
       "<style scoped>\n",
       "    .dataframe tbody tr th:only-of-type {\n",
       "        vertical-align: middle;\n",
       "    }\n",
       "\n",
       "    .dataframe tbody tr th {\n",
       "        vertical-align: top;\n",
       "    }\n",
       "\n",
       "    .dataframe thead th {\n",
       "        text-align: right;\n",
       "    }\n",
       "</style>\n",
       "<table border=\"1\" class=\"dataframe\">\n",
       "  <thead>\n",
       "    <tr style=\"text-align: right;\">\n",
       "      <th></th>\n",
       "      <th>Area_Name</th>\n",
       "      <th>Year</th>\n",
       "      <th>Subgroup</th>\n",
       "      <th>Rape_Cases_Reported</th>\n",
       "      <th>Victims_Above_50_Yrs</th>\n",
       "      <th>Victims_Between_10-14_Yrs</th>\n",
       "      <th>Victims_Between_14-18_Yrs</th>\n",
       "      <th>Victims_Between_18-30_Yrs</th>\n",
       "      <th>Victims_Between_30-50_Yrs</th>\n",
       "      <th>Victims_Upto_10_Yrs</th>\n",
       "    </tr>\n",
       "  </thead>\n",
       "  <tbody>\n",
       "    <tr>\n",
       "      <th>count</th>\n",
       "      <td>1050</td>\n",
       "      <td>1050.00000</td>\n",
       "      <td>1050</td>\n",
       "      <td>1050.000000</td>\n",
       "      <td>1050.000000</td>\n",
       "      <td>1050.000000</td>\n",
       "      <td>1050.000000</td>\n",
       "      <td>1050.000000</td>\n",
       "      <td>1050.000000</td>\n",
       "      <td>1050.000000</td>\n",
       "    </tr>\n",
       "    <tr>\n",
       "      <th>unique</th>\n",
       "      <td>35</td>\n",
       "      <td>NaN</td>\n",
       "      <td>3</td>\n",
       "      <td>NaN</td>\n",
       "      <td>NaN</td>\n",
       "      <td>NaN</td>\n",
       "      <td>NaN</td>\n",
       "      <td>NaN</td>\n",
       "      <td>NaN</td>\n",
       "      <td>NaN</td>\n",
       "    </tr>\n",
       "    <tr>\n",
       "      <th>top</th>\n",
       "      <td>Arunachal Pradesh</td>\n",
       "      <td>NaN</td>\n",
       "      <td>Total Rape Victims</td>\n",
       "      <td>NaN</td>\n",
       "      <td>NaN</td>\n",
       "      <td>NaN</td>\n",
       "      <td>NaN</td>\n",
       "      <td>NaN</td>\n",
       "      <td>NaN</td>\n",
       "      <td>NaN</td>\n",
       "    </tr>\n",
       "    <tr>\n",
       "      <th>freq</th>\n",
       "      <td>30</td>\n",
       "      <td>NaN</td>\n",
       "      <td>350</td>\n",
       "      <td>NaN</td>\n",
       "      <td>NaN</td>\n",
       "      <td>NaN</td>\n",
       "      <td>NaN</td>\n",
       "      <td>NaN</td>\n",
       "      <td>NaN</td>\n",
       "      <td>NaN</td>\n",
       "    </tr>\n",
       "    <tr>\n",
       "      <th>mean</th>\n",
       "      <td>NaN</td>\n",
       "      <td>2005.50000</td>\n",
       "      <td>NaN</td>\n",
       "      <td>361.920000</td>\n",
       "      <td>1.866667</td>\n",
       "      <td>23.657143</td>\n",
       "      <td>53.085714</td>\n",
       "      <td>212.937143</td>\n",
       "      <td>60.236190</td>\n",
       "      <td>10.415238</td>\n",
       "    </tr>\n",
       "    <tr>\n",
       "      <th>std</th>\n",
       "      <td>NaN</td>\n",
       "      <td>2.87365</td>\n",
       "      <td>NaN</td>\n",
       "      <td>592.180572</td>\n",
       "      <td>4.640286</td>\n",
       "      <td>50.677418</td>\n",
       "      <td>115.127899</td>\n",
       "      <td>350.135760</td>\n",
       "      <td>118.322713</td>\n",
       "      <td>19.533134</td>\n",
       "    </tr>\n",
       "    <tr>\n",
       "      <th>min</th>\n",
       "      <td>NaN</td>\n",
       "      <td>2001.00000</td>\n",
       "      <td>NaN</td>\n",
       "      <td>0.000000</td>\n",
       "      <td>0.000000</td>\n",
       "      <td>0.000000</td>\n",
       "      <td>0.000000</td>\n",
       "      <td>0.000000</td>\n",
       "      <td>0.000000</td>\n",
       "      <td>0.000000</td>\n",
       "    </tr>\n",
       "    <tr>\n",
       "      <th>25%</th>\n",
       "      <td>NaN</td>\n",
       "      <td>2003.00000</td>\n",
       "      <td>NaN</td>\n",
       "      <td>4.000000</td>\n",
       "      <td>0.000000</td>\n",
       "      <td>0.000000</td>\n",
       "      <td>0.000000</td>\n",
       "      <td>1.000000</td>\n",
       "      <td>0.000000</td>\n",
       "      <td>0.000000</td>\n",
       "    </tr>\n",
       "    <tr>\n",
       "      <th>50%</th>\n",
       "      <td>NaN</td>\n",
       "      <td>2005.50000</td>\n",
       "      <td>NaN</td>\n",
       "      <td>37.000000</td>\n",
       "      <td>0.000000</td>\n",
       "      <td>3.000000</td>\n",
       "      <td>5.000000</td>\n",
       "      <td>15.500000</td>\n",
       "      <td>4.000000</td>\n",
       "      <td>2.000000</td>\n",
       "    </tr>\n",
       "    <tr>\n",
       "      <th>75%</th>\n",
       "      <td>NaN</td>\n",
       "      <td>2008.00000</td>\n",
       "      <td>NaN</td>\n",
       "      <td>527.500000</td>\n",
       "      <td>1.000000</td>\n",
       "      <td>19.000000</td>\n",
       "      <td>42.000000</td>\n",
       "      <td>308.000000</td>\n",
       "      <td>58.750000</td>\n",
       "      <td>11.000000</td>\n",
       "    </tr>\n",
       "    <tr>\n",
       "      <th>max</th>\n",
       "      <td>NaN</td>\n",
       "      <td>2010.00000</td>\n",
       "      <td>NaN</td>\n",
       "      <td>3135.000000</td>\n",
       "      <td>43.000000</td>\n",
       "      <td>416.000000</td>\n",
       "      <td>826.000000</td>\n",
       "      <td>1835.000000</td>\n",
       "      <td>811.000000</td>\n",
       "      <td>131.000000</td>\n",
       "    </tr>\n",
       "  </tbody>\n",
       "</table>\n",
       "</div>"
      ],
      "text/plain": [
       "                Area_Name        Year            Subgroup  \\\n",
       "count                1050  1050.00000                1050   \n",
       "unique                 35         NaN                   3   \n",
       "top     Arunachal Pradesh         NaN  Total Rape Victims   \n",
       "freq                   30         NaN                 350   \n",
       "mean                  NaN  2005.50000                 NaN   \n",
       "std                   NaN     2.87365                 NaN   \n",
       "min                   NaN  2001.00000                 NaN   \n",
       "25%                   NaN  2003.00000                 NaN   \n",
       "50%                   NaN  2005.50000                 NaN   \n",
       "75%                   NaN  2008.00000                 NaN   \n",
       "max                   NaN  2010.00000                 NaN   \n",
       "\n",
       "        Rape_Cases_Reported  Victims_Above_50_Yrs  Victims_Between_10-14_Yrs  \\\n",
       "count           1050.000000           1050.000000                1050.000000   \n",
       "unique                  NaN                   NaN                        NaN   \n",
       "top                     NaN                   NaN                        NaN   \n",
       "freq                    NaN                   NaN                        NaN   \n",
       "mean             361.920000              1.866667                  23.657143   \n",
       "std              592.180572              4.640286                  50.677418   \n",
       "min                0.000000              0.000000                   0.000000   \n",
       "25%                4.000000              0.000000                   0.000000   \n",
       "50%               37.000000              0.000000                   3.000000   \n",
       "75%              527.500000              1.000000                  19.000000   \n",
       "max             3135.000000             43.000000                 416.000000   \n",
       "\n",
       "        Victims_Between_14-18_Yrs  Victims_Between_18-30_Yrs  \\\n",
       "count                 1050.000000                1050.000000   \n",
       "unique                        NaN                        NaN   \n",
       "top                           NaN                        NaN   \n",
       "freq                          NaN                        NaN   \n",
       "mean                    53.085714                 212.937143   \n",
       "std                    115.127899                 350.135760   \n",
       "min                      0.000000                   0.000000   \n",
       "25%                      0.000000                   1.000000   \n",
       "50%                      5.000000                  15.500000   \n",
       "75%                     42.000000                 308.000000   \n",
       "max                    826.000000                1835.000000   \n",
       "\n",
       "        Victims_Between_30-50_Yrs  Victims_Upto_10_Yrs  \n",
       "count                 1050.000000          1050.000000  \n",
       "unique                        NaN                  NaN  \n",
       "top                           NaN                  NaN  \n",
       "freq                          NaN                  NaN  \n",
       "mean                    60.236190            10.415238  \n",
       "std                    118.322713            19.533134  \n",
       "min                      0.000000             0.000000  \n",
       "25%                      0.000000             0.000000  \n",
       "50%                      4.000000             2.000000  \n",
       "75%                     58.750000            11.000000  \n",
       "max                    811.000000           131.000000  "
      ]
     },
     "execution_count": 57,
     "metadata": {},
     "output_type": "execute_result"
    }
   ],
   "source": [
    "df.describe(include=\"all\")"
   ]
  },
  {
   "cell_type": "code",
   "execution_count": 58,
   "metadata": {},
   "outputs": [],
   "source": [
    "#total 1050 rows and has np null values\n",
    "#data are extracted from 35 unique area names\n"
   ]
  },
  {
   "cell_type": "code",
   "execution_count": 59,
   "metadata": {},
   "outputs": [
    {
     "data": {
      "text/plain": [
       "2010    105\n",
       "2009    105\n",
       "2008    105\n",
       "2007    105\n",
       "2006    105\n",
       "2005    105\n",
       "2004    105\n",
       "2003    105\n",
       "2002    105\n",
       "2001    105\n",
       "Name: Year, dtype: int64"
      ]
     },
     "execution_count": 59,
     "metadata": {},
     "output_type": "execute_result"
    }
   ],
   "source": [
    "df[\"Year\"].value_counts()"
   ]
  },
  {
   "cell_type": "code",
   "execution_count": 93,
   "metadata": {},
   "outputs": [],
   "source": [
    "# Let's get the insight of the data\n",
    "#lets analys year wise all over DATA\n",
    "\n",
    "df1 = df.groupby(['Year']).agg({'Rape_Cases_Reported':\"sum\",'Victims_Above_50_Yrs':\"sum\",'Victims_Between_10-14_Yrs':\"sum\",'Victims_Between_14-18_Yrs':\"sum\",'Victims_Between_18-30_Yrs':\"sum\",'Victims_Between_30-50_Yrs':\"sum\",'Victims_Upto_10_Yrs':\"sum\"})"
   ]
  },
  {
   "cell_type": "code",
   "execution_count": 61,
   "metadata": {},
   "outputs": [
    {
     "data": {
      "text/html": [
       "<div>\n",
       "<style scoped>\n",
       "    .dataframe tbody tr th:only-of-type {\n",
       "        vertical-align: middle;\n",
       "    }\n",
       "\n",
       "    .dataframe tbody tr th {\n",
       "        vertical-align: top;\n",
       "    }\n",
       "\n",
       "    .dataframe thead th {\n",
       "        text-align: right;\n",
       "    }\n",
       "</style>\n",
       "<table border=\"1\" class=\"dataframe\">\n",
       "  <thead>\n",
       "    <tr style=\"text-align: right;\">\n",
       "      <th></th>\n",
       "      <th>Rape_Cases_Reported</th>\n",
       "      <th>Victims_Above_50_Yrs</th>\n",
       "      <th>Victims_Between_10-14_Yrs</th>\n",
       "      <th>Victims_Between_14-18_Yrs</th>\n",
       "      <th>Victims_Between_18-30_Yrs</th>\n",
       "      <th>Victims_Between_30-50_Yrs</th>\n",
       "      <th>Victims_Upto_10_Yrs</th>\n",
       "    </tr>\n",
       "    <tr>\n",
       "      <th>Year</th>\n",
       "      <th></th>\n",
       "      <th></th>\n",
       "      <th></th>\n",
       "      <th></th>\n",
       "      <th></th>\n",
       "      <th></th>\n",
       "      <th></th>\n",
       "    </tr>\n",
       "  </thead>\n",
       "  <tbody>\n",
       "    <tr>\n",
       "      <th>2001</th>\n",
       "      <td>32150</td>\n",
       "      <td>136</td>\n",
       "      <td>2880</td>\n",
       "      <td>7822</td>\n",
       "      <td>15762</td>\n",
       "      <td>4496</td>\n",
       "      <td>1060</td>\n",
       "    </tr>\n",
       "    <tr>\n",
       "      <th>2002</th>\n",
       "      <td>32746</td>\n",
       "      <td>132</td>\n",
       "      <td>1708</td>\n",
       "      <td>2650</td>\n",
       "      <td>21460</td>\n",
       "      <td>5984</td>\n",
       "      <td>822</td>\n",
       "    </tr>\n",
       "    <tr>\n",
       "      <th>2003</th>\n",
       "      <td>31694</td>\n",
       "      <td>120</td>\n",
       "      <td>1862</td>\n",
       "      <td>3584</td>\n",
       "      <td>19746</td>\n",
       "      <td>5622</td>\n",
       "      <td>778</td>\n",
       "    </tr>\n",
       "    <tr>\n",
       "      <th>2004</th>\n",
       "      <td>36466</td>\n",
       "      <td>162</td>\n",
       "      <td>2180</td>\n",
       "      <td>4008</td>\n",
       "      <td>22686</td>\n",
       "      <td>6378</td>\n",
       "      <td>1064</td>\n",
       "    </tr>\n",
       "    <tr>\n",
       "      <th>2005</th>\n",
       "      <td>36718</td>\n",
       "      <td>222</td>\n",
       "      <td>2348</td>\n",
       "      <td>4688</td>\n",
       "      <td>21618</td>\n",
       "      <td>6762</td>\n",
       "      <td>1114</td>\n",
       "    </tr>\n",
       "    <tr>\n",
       "      <th>2006</th>\n",
       "      <td>38696</td>\n",
       "      <td>188</td>\n",
       "      <td>2162</td>\n",
       "      <td>6728</td>\n",
       "      <td>22624</td>\n",
       "      <td>6004</td>\n",
       "      <td>1024</td>\n",
       "    </tr>\n",
       "    <tr>\n",
       "      <th>2007</th>\n",
       "      <td>41474</td>\n",
       "      <td>266</td>\n",
       "      <td>2710</td>\n",
       "      <td>6304</td>\n",
       "      <td>23968</td>\n",
       "      <td>7060</td>\n",
       "      <td>1234</td>\n",
       "    </tr>\n",
       "    <tr>\n",
       "      <th>2008</th>\n",
       "      <td>42934</td>\n",
       "      <td>272</td>\n",
       "      <td>2662</td>\n",
       "      <td>6992</td>\n",
       "      <td>24598</td>\n",
       "      <td>7168</td>\n",
       "      <td>1278</td>\n",
       "    </tr>\n",
       "    <tr>\n",
       "      <th>2009</th>\n",
       "      <td>42794</td>\n",
       "      <td>190</td>\n",
       "      <td>3520</td>\n",
       "      <td>5824</td>\n",
       "      <td>25624</td>\n",
       "      <td>6248</td>\n",
       "      <td>1420</td>\n",
       "    </tr>\n",
       "    <tr>\n",
       "      <th>2010</th>\n",
       "      <td>44344</td>\n",
       "      <td>272</td>\n",
       "      <td>2808</td>\n",
       "      <td>7140</td>\n",
       "      <td>25498</td>\n",
       "      <td>7526</td>\n",
       "      <td>1142</td>\n",
       "    </tr>\n",
       "  </tbody>\n",
       "</table>\n",
       "</div>"
      ],
      "text/plain": [
       "      Rape_Cases_Reported  Victims_Above_50_Yrs  Victims_Between_10-14_Yrs  \\\n",
       "Year                                                                         \n",
       "2001                32150                   136                       2880   \n",
       "2002                32746                   132                       1708   \n",
       "2003                31694                   120                       1862   \n",
       "2004                36466                   162                       2180   \n",
       "2005                36718                   222                       2348   \n",
       "2006                38696                   188                       2162   \n",
       "2007                41474                   266                       2710   \n",
       "2008                42934                   272                       2662   \n",
       "2009                42794                   190                       3520   \n",
       "2010                44344                   272                       2808   \n",
       "\n",
       "      Victims_Between_14-18_Yrs  Victims_Between_18-30_Yrs  \\\n",
       "Year                                                         \n",
       "2001                       7822                      15762   \n",
       "2002                       2650                      21460   \n",
       "2003                       3584                      19746   \n",
       "2004                       4008                      22686   \n",
       "2005                       4688                      21618   \n",
       "2006                       6728                      22624   \n",
       "2007                       6304                      23968   \n",
       "2008                       6992                      24598   \n",
       "2009                       5824                      25624   \n",
       "2010                       7140                      25498   \n",
       "\n",
       "      Victims_Between_30-50_Yrs  Victims_Upto_10_Yrs  \n",
       "Year                                                  \n",
       "2001                       4496                 1060  \n",
       "2002                       5984                  822  \n",
       "2003                       5622                  778  \n",
       "2004                       6378                 1064  \n",
       "2005                       6762                 1114  \n",
       "2006                       6004                 1024  \n",
       "2007                       7060                 1234  \n",
       "2008                       7168                 1278  \n",
       "2009                       6248                 1420  \n",
       "2010                       7526                 1142  "
      ]
     },
     "execution_count": 61,
     "metadata": {},
     "output_type": "execute_result"
    }
   ],
   "source": [
    "df1"
   ]
  },
  {
   "cell_type": "code",
   "execution_count": 62,
   "metadata": {},
   "outputs": [
    {
     "name": "stdout",
     "output_type": "stream",
     "text": [
      "   Year\n",
      "0  2001\n",
      "1  2002\n",
      "2  2003\n",
      "3  2004\n",
      "4  2005\n",
      "5  2006\n",
      "6  2007\n",
      "7  2008\n",
      "8  2009\n",
      "9  2010\n",
      "Average increase in Rape_Cases_Reported every year: 1265.0\n"
     ]
    },
    {
     "data": {
      "image/png": "[encoded data removed]",
      "text/plain": [
       "<Figure size 1440x360 with 1 Axes>"
      ]
     },
     "metadata": {
      "needs_background": "light"
     },
     "output_type": "display_data"
    }
   ],
   "source": [
    "a=print(pd.DataFrame(df1.index))\n",
    "plt.figure(figsize=(20,5))\n",
    "\n",
    "sns.barplot(x=df1.index,y=df1['Rape_Cases_Reported'],palette='rocket_r')\n",
    "plt.title(\"Increase in rape case with respect to Year\")\n",
    "print(\"Average increase in Rape_Cases_Reported every year:\", (df1['Rape_Cases_Reported'].max()-df1['Rape_Cases_Reported'].min())/10)"
   ]
  },
  {
   "cell_type": "code",
   "execution_count": 63,
   "metadata": {},
   "outputs": [
    {
     "name": "stdout",
     "output_type": "stream",
     "text": [
      "totalnumber of victim aged above 50 year is 1960\n",
      "totalnumber of victim aged Between_10-14_Yrs is 24840\n",
      "totalnumber of victim aged Between_14-18_Yrs is 55740\n",
      "totalnumber of victim aged Between_18-30_Yrs is 223584\n",
      "totalnumber of victim aged Between_30-50_Yrs 63248\n",
      "totalnumber of Victims_Upto_10_Yrs 10936\n"
     ]
    }
   ],
   "source": [
    "print(\"totalnumber of victim aged above 50 year is\",df1['Victims_Above_50_Yrs'].sum())\n",
    "print(\"totalnumber of victim aged Between_10-14_Yrs is\",df1['Victims_Between_10-14_Yrs'].sum())\n",
    "print(\"totalnumber of victim aged Between_14-18_Yrs is\",df1['Victims_Between_14-18_Yrs'].sum())\n",
    "print(\"totalnumber of victim aged Between_18-30_Yrs is\",df1['Victims_Between_18-30_Yrs'].sum())\n",
    "print(\"totalnumber of victim aged Between_30-50_Yrs\",df1['Victims_Between_30-50_Yrs'].sum())\n",
    "print(\"totalnumber of Victims_Upto_10_Yrs\",df1['Victims_Upto_10_Yrs'].sum())"
   ]
  },
  {
   "cell_type": "markdown",
   "metadata": {},
   "source": [
    "FROM THE YEAR 2001 -2010 AGE OF THE REPORTED RAPE VICTIM ARE MENTIONED ABOVE"
   ]
  },
  {
   "cell_type": "code",
   "execution_count": 80,
   "metadata": {},
   "outputs": [
    {
     "data": {
      "text/plain": [
       "Text(0.5, 1.0, 'Rape Cases Reported Victims Above_50_Yrs With Respect To Yrs')"
      ]
     },
     "execution_count": 80,
     "metadata": {},
     "output_type": "execute_result"
    },
    {
     "data": {
      "image/png": "[encoded data removed]",
      "text/plain": [
       "<Figure size 432x288 with 1 Axes>"
      ]
     },
     "metadata": {
      "needs_background": "light"
     },
     "output_type": "display_data"
    }
   ],
   "source": [
    "sns.barplot(x=df1['Victims_Above_50_Yrs'],y=df1['Rape_Cases_Reported'])\n",
    "plt.title(\"Rape Cases Reported Victims Above_50_Yrs With Respect To Yrs\")"
   ]
  },
  {
   "cell_type": "code",
   "execution_count": 81,
   "metadata": {},
   "outputs": [
    {
     "data": {
      "text/plain": [
       "Text(0.5, 1.0, 'Rape Cases Reported Victims Between_10-14_Yrs With Respect To Yrs')"
      ]
     },
     "execution_count": 81,
     "metadata": {},
     "output_type": "execute_result"
    },
    {
     "data": {
      "image/png": "[encoded data removed]",
      "text/plain": [
       "<Figure size 432x288 with 1 Axes>"
      ]
     },
     "metadata": {
      "needs_background": "light"
     },
     "output_type": "display_data"
    }
   ],
   "source": [
    "sns.barplot(x=df1['Victims_Between_10-14_Yrs'],y=df1['Rape_Cases_Reported'])\n",
    "plt.title(\"Rape Cases Reported Victims Between_10-14_Yrs With Respect To Yrs\")"
   ]
  },
  {
   "cell_type": "code",
   "execution_count": 82,
   "metadata": {},
   "outputs": [
    {
     "data": {
      "text/plain": [
       "Text(0.5, 1.0, 'Rape Cases Reported Victims Between_14-18_Yrs With Respect To Yrs')"
      ]
     },
     "execution_count": 82,
     "metadata": {},
     "output_type": "execute_result"
    },
    {
     "data": {
      "image/png": "[encoded data removed]",
      "text/plain": [
       "<Figure size 432x288 with 1 Axes>"
      ]
     },
     "metadata": {
      "needs_background": "light"
     },
     "output_type": "display_data"
    }
   ],
   "source": [
    "sns.barplot(x=df1['Victims_Between_14-18_Yrs'],y=df1['Rape_Cases_Reported'])\n",
    "plt.title(\"Rape Cases Reported Victims Between_14-18_Yrs With Respect To Yrs\")"
   ]
  },
  {
   "cell_type": "code",
   "execution_count": 83,
   "metadata": {},
   "outputs": [
    {
     "data": {
      "text/plain": [
       "Text(0.5, 1.0, 'Rape Cases Reported Victims Between_18-30_Yrs With Respect To Yrs')"
      ]
     },
     "execution_count": 83,
     "metadata": {},
     "output_type": "execute_result"
    },
    {
     "data": {
      "image/png": "[encoded data removed]",
      "text/plain": [
       "<Figure size 432x288 with 1 Axes>"
      ]
     },
     "metadata": {
      "needs_background": "light"
     },
     "output_type": "display_data"
    }
   ],
   "source": [
    "sns.barplot(x=df1['Victims_Between_18-30_Yrs'],y=df1['Rape_Cases_Reported'])\n",
    "plt.title(\"Rape Cases Reported Victims Between_18-30_Yrs With Respect To Yrs\")"
   ]
  },
  {
   "cell_type": "code",
   "execution_count": 84,
   "metadata": {},
   "outputs": [
    {
     "data": {
      "text/plain": [
       "Text(0.5, 1.0, 'Rape Cases Reported Victims Between_30-50_Yrs With Respect To Yrs')"
      ]
     },
     "execution_count": 84,
     "metadata": {},
     "output_type": "execute_result"
    },
    {
     "data": {
      "image/png": "[encoded data removed]",
      "text/plain": [
       "<Figure size 432x288 with 1 Axes>"
      ]
     },
     "metadata": {
      "needs_background": "light"
     },
     "output_type": "display_data"
    }
   ],
   "source": [
    "sns.barplot(x=df1['Victims_Between_30-50_Yrs'],y=df1['Rape_Cases_Reported'])\n",
    "plt.title(\"Rape Cases Reported Victims Between_30-50_Yrs With Respect To Yrs\")"
   ]
  },
  {
   "cell_type": "code",
   "execution_count": 85,
   "metadata": {},
   "outputs": [
    {
     "data": {
      "text/plain": [
       "Text(0.5, 1.0, 'Rape Cases Reported Victims Upto_10_Yrs With Respect To Yrs')"
      ]
     },
     "execution_count": 85,
     "metadata": {},
     "output_type": "execute_result"
    },
    {
     "data": {
      "image/png": "[encoded data removed]",
      "text/plain": [
       "<Figure size 432x288 with 1 Axes>"
      ]
     },
     "metadata": {
      "needs_background": "light"
     },
     "output_type": "display_data"
    }
   ],
   "source": [
    "sns.barplot(x=df1['Victims_Upto_10_Yrs'],y=df1['Rape_Cases_Reported'])\n",
    "plt.title(\"Rape Cases Reported Victims Upto_10_Yrs With Respect To Yrs\")"
   ]
  },
  {
   "cell_type": "code",
   "execution_count": 94,
   "metadata": {},
   "outputs": [
    {
     "data": {
      "text/plain": [
       "Arunachal Pradesh            30\n",
       "Puducherry                   30\n",
       "Nagaland                     30\n",
       "Karnataka                    30\n",
       "Sikkim                       30\n",
       "Uttar Pradesh                30\n",
       "Uttarakhand                  30\n",
       "Tamil Nadu                   30\n",
       "Haryana                      30\n",
       "Assam                        30\n",
       "Jammu & Kashmir              30\n",
       "Gujarat                      30\n",
       "Odisha                       30\n",
       "Rajasthan                    30\n",
       "Chhattisgarh                 30\n",
       "Bihar                        30\n",
       "Madhya Pradesh               30\n",
       "Manipur                      30\n",
       "Daman & Diu                  30\n",
       "Delhi                        30\n",
       "Himachal Pradesh             30\n",
       "West Bengal                  30\n",
       "Kerala                       30\n",
       "Mizoram                      30\n",
       "Maharashtra                  30\n",
       "Tripura                      30\n",
       "Dadra & Nagar Haveli         30\n",
       "Lakshadweep                  30\n",
       "Andhra Pradesh               30\n",
       "Jharkhand                    30\n",
       "Goa                          30\n",
       "Andaman & Nicobar Islands    30\n",
       "Chandigarh                   30\n",
       "Meghalaya                    30\n",
       "Punjab                       30\n",
       "Name: Area_Name, dtype: int64"
      ]
     },
     "execution_count": 94,
     "metadata": {},
     "output_type": "execute_result"
    }
   ],
   "source": [
    "#lets analys AREA wise all over DATA\n",
    "df['Area_Name'].value_counts()"
   ]
  },
  {
   "cell_type": "code",
   "execution_count": 90,
   "metadata": {},
   "outputs": [
    {
     "name": "stdout",
     "output_type": "stream",
     "text": [
      "Total Rape Victims =  380016\n"
     ]
    },
    {
     "data": {
      "text/html": [
       "<div>\n",
       "<style scoped>\n",
       "    .dataframe tbody tr th:only-of-type {\n",
       "        vertical-align: middle;\n",
       "    }\n",
       "\n",
       "    .dataframe tbody tr th {\n",
       "        vertical-align: top;\n",
       "    }\n",
       "\n",
       "    .dataframe thead th {\n",
       "        text-align: right;\n",
       "    }\n",
       "</style>\n",
       "<table border=\"1\" class=\"dataframe\">\n",
       "  <thead>\n",
       "    <tr style=\"text-align: right;\">\n",
       "      <th></th>\n",
       "      <th>Rape_Cases_Reported</th>\n",
       "      <th>Victims_Above_50_Yrs</th>\n",
       "      <th>Victims_Between_10-14_Yrs</th>\n",
       "      <th>Victims_Between_14-18_Yrs</th>\n",
       "      <th>Victims_Between_18-30_Yrs</th>\n",
       "      <th>Victims_Between_30-50_Yrs</th>\n",
       "      <th>Victims_Upto_10_Yrs</th>\n",
       "    </tr>\n",
       "    <tr>\n",
       "      <th>Area_Name</th>\n",
       "      <th></th>\n",
       "      <th></th>\n",
       "      <th></th>\n",
       "      <th></th>\n",
       "      <th></th>\n",
       "      <th></th>\n",
       "      <th></th>\n",
       "    </tr>\n",
       "  </thead>\n",
       "  <tbody>\n",
       "    <tr>\n",
       "      <th>Madhya Pradesh</th>\n",
       "      <td>58512</td>\n",
       "      <td>362</td>\n",
       "      <td>4998</td>\n",
       "      <td>11108</td>\n",
       "      <td>29064</td>\n",
       "      <td>11566</td>\n",
       "      <td>1416</td>\n",
       "    </tr>\n",
       "    <tr>\n",
       "      <th>West Bengal</th>\n",
       "      <td>32756</td>\n",
       "      <td>20</td>\n",
       "      <td>312</td>\n",
       "      <td>546</td>\n",
       "      <td>25172</td>\n",
       "      <td>6580</td>\n",
       "      <td>126</td>\n",
       "    </tr>\n",
       "    <tr>\n",
       "      <th>Uttar Pradesh</th>\n",
       "      <td>30106</td>\n",
       "      <td>24</td>\n",
       "      <td>2848</td>\n",
       "      <td>6184</td>\n",
       "      <td>16152</td>\n",
       "      <td>4172</td>\n",
       "      <td>726</td>\n",
       "    </tr>\n",
       "    <tr>\n",
       "      <th>Maharashtra</th>\n",
       "      <td>28892</td>\n",
       "      <td>126</td>\n",
       "      <td>2610</td>\n",
       "      <td>8304</td>\n",
       "      <td>13120</td>\n",
       "      <td>2970</td>\n",
       "      <td>1880</td>\n",
       "    </tr>\n",
       "    <tr>\n",
       "      <th>Assam</th>\n",
       "      <td>25524</td>\n",
       "      <td>190</td>\n",
       "      <td>306</td>\n",
       "      <td>818</td>\n",
       "      <td>17014</td>\n",
       "      <td>7104</td>\n",
       "      <td>92</td>\n",
       "    </tr>\n",
       "  </tbody>\n",
       "</table>\n",
       "</div>"
      ],
      "text/plain": [
       "                Rape_Cases_Reported  Victims_Above_50_Yrs  \\\n",
       "Area_Name                                                   \n",
       "Madhya Pradesh                58512                   362   \n",
       "West Bengal                   32756                    20   \n",
       "Uttar Pradesh                 30106                    24   \n",
       "Maharashtra                   28892                   126   \n",
       "Assam                         25524                   190   \n",
       "\n",
       "                Victims_Between_10-14_Yrs  Victims_Between_14-18_Yrs  \\\n",
       "Area_Name                                                              \n",
       "Madhya Pradesh                       4998                      11108   \n",
       "West Bengal                           312                        546   \n",
       "Uttar Pradesh                        2848                       6184   \n",
       "Maharashtra                          2610                       8304   \n",
       "Assam                                 306                        818   \n",
       "\n",
       "                Victims_Between_18-30_Yrs  Victims_Between_30-50_Yrs  \\\n",
       "Area_Name                                                              \n",
       "Madhya Pradesh                      29064                      11566   \n",
       "West Bengal                         25172                       6580   \n",
       "Uttar Pradesh                       16152                       4172   \n",
       "Maharashtra                         13120                       2970   \n",
       "Assam                               17014                       7104   \n",
       "\n",
       "                Victims_Upto_10_Yrs  \n",
       "Area_Name                            \n",
       "Madhya Pradesh                 1416  \n",
       "West Bengal                     126  \n",
       "Uttar Pradesh                   726  \n",
       "Maharashtra                    1880  \n",
       "Assam                            92  "
      ]
     },
     "execution_count": 90,
     "metadata": {},
     "output_type": "execute_result"
    }
   ],
   "source": [
    "# let's first plot only the total number of rape cases reported in each state\n",
    "rape_victims_by_state = df.groupby('Area_Name').sum()\n",
    "rape_victims_by_state.drop('Year', axis = 1, inplace = True)\n",
    "print('Total Rape Victims = ' ,rape_victims_by_state['Rape_Cases_Reported'].sum())\n",
    "rape_victims_by_state.sort_values(by = 'Rape_Cases_Reported', ascending = False).head()"
   ]
  },
  {
   "cell_type": "code",
   "execution_count": 91,
   "metadata": {},
   "outputs": [
    {
     "data": {
      "image/png": "[encoded data removed]",
      "text/plain": [
       "<Figure size 1080x432 with 1 Axes>"
      ]
     },
     "metadata": {
      "needs_background": "light"
     },
     "output_type": "display_data"
    },
    {
     "name": "stdout",
     "output_type": "stream",
     "text": [
      "Area_Name\n",
      "Madhya Pradesh               58512\n",
      "West Bengal                  32756\n",
      "Uttar Pradesh                30106\n",
      "Maharashtra                  28892\n",
      "Assam                        25524\n",
      "Rajasthan                    23898\n",
      "Bihar                        22526\n",
      "Andhra Pradesh               21392\n",
      "Chhattisgarh                 19502\n",
      "Odisha                       17720\n",
      "Jharkhand                    15126\n",
      "Tamil Nadu                   11076\n",
      "Kerala                       10592\n",
      "Delhi                        10292\n",
      "Haryana                      10018\n",
      "Punjab                        8600\n",
      "Karnataka                     7834\n",
      "Gujarat                       6674\n",
      "Jammu & Kashmir               4460\n",
      "Tripura                       3248\n",
      "Himachal Pradesh              2906\n",
      "Uttarakhand                   2202\n",
      "Meghalaya                     1452\n",
      "Mizoram                       1292\n",
      "Arunachal Pradesh              824\n",
      "Manipur                        542\n",
      "Goa                            532\n",
      "Chandigarh                     454\n",
      "Nagaland                       352\n",
      "Sikkim                         290\n",
      "Andaman & Nicobar Islands      168\n",
      "Puducherry                     114\n",
      "Dadra & Nagar Haveli            98\n",
      "Daman & Diu                     28\n",
      "Lakshadweep                     14\n",
      "Name: Rape_Cases_Reported, dtype: int64\n"
     ]
    }
   ],
   "source": [
    "plt.subplots(figsize = (15, 6))\n",
    "ct = rape_victims_by_state['Rape_Cases_Reported'].sort_values(ascending = False)\n",
    "#print(ct)\n",
    "ax = ct.plot.bar()\n",
    "#ax = sns.barplot(x = rape_victims_by_state.index, y = rape_victims_by_state['Rape_Cases_Reported'])\n",
    "ax.set_xlabel('Area Name')\n",
    "ax.set_ylabel('Total Number of Reported Rape Victims from 2001 to 2010')\n",
    "ax.set_title('Statewise total Reported Rape Victims throught the Years 2001 to 2010')\n",
    "plt.show()\n",
    "print(ct)"
   ]
  },
  {
   "cell_type": "markdown",
   "metadata": {},
   "source": [
    "# Conclusion"
   ]
  },
  {
   "cell_type": "markdown",
   "metadata": {},
   "source": [
    "from the data given we can conclude average increase in reported rape cases every year,age catagory rape victims and most rape cases reported state"
   ]
  },
  {
   "cell_type": "code",
   "execution_count": null,
   "metadata": {},
   "outputs": [],
   "source": []
  }
 ],
 "metadata": {
  "kernelspec": {
   "display_name": "Python 3",
   "language": "python",
   "name": "python3"
  },
  "language_info": {
   "codemirror_mode": {
    "name": "ipython",
    "version": 3
   },
   "file_extension": ".py",
   "mimetype": "text/x-python",
   "name": "python",
   "nbconvert_exporter": "python",
   "pygments_lexer": "ipython3",
   "version": "3.8.3"
  }
 },
 "nbformat": 4,
 "nbformat_minor": 4
}
